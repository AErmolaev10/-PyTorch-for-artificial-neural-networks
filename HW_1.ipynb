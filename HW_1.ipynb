{
  "cells": [
    {
      "cell_type": "code",
      "execution_count": 1,
      "metadata": {
        "id": "_CNZn_3CofVO"
      },
      "outputs": [],
      "source": [
        "import torch"
      ]
    },
    {
      "cell_type": "code",
      "execution_count": 23,
      "metadata": {
        "id": "QGYTKAxeofVR",
        "outputId": "14043564-1d95-4fee-b24c-d06140d9ac98",
        "colab": {
          "base_uri": "https://localhost:8080/"
        }
      },
      "outputs": [
        {
          "output_type": "execute_result",
          "data": {
            "text/plain": [
              "tensor([[[-0.4151, -1.1476,  0.3102,  0.7118, -0.5631],\n",
              "         [-0.4572,  0.8055, -0.9073, -0.6255, -1.9077],\n",
              "         [ 0.0976,  0.0883,  1.2831,  1.3652,  0.0394],\n",
              "         [ 1.4372,  1.1992,  0.4216, -0.1508,  1.2110]],\n",
              "\n",
              "        [[-0.4037,  0.0439, -0.8703,  0.3546, -0.0900],\n",
              "         [ 0.9104, -0.5144, -0.1422, -0.0675, -0.5089],\n",
              "         [ 0.0942,  0.7625, -1.1359,  2.6938,  0.3582],\n",
              "         [-0.0286, -0.9990, -0.2597,  1.3374, -0.8650]],\n",
              "\n",
              "        [[ 0.1704,  0.4125,  0.6563, -0.0988, -1.3648],\n",
              "         [ 0.8540,  0.4501,  0.2109, -0.5645, -0.0519],\n",
              "         [-0.3712,  0.1569, -0.4310, -0.0373, -1.6841],\n",
              "         [ 0.7047, -1.8612,  0.5715,  0.5572,  0.2135]]])"
            ]
          },
          "metadata": {},
          "execution_count": 23
        }
      ],
      "source": [
        "# 1. Создайте случайный FloatTensor размера 3x4x5\n",
        "a = torch.randn(3, 4, 5)\n",
        "a"
      ]
    },
    {
      "cell_type": "code",
      "execution_count": 24,
      "metadata": {
        "id": "7GV_q8DdofVV",
        "outputId": "abb9a502-9383-4a2d-830b-5ec42d9e435f",
        "colab": {
          "base_uri": "https://localhost:8080/"
        }
      },
      "outputs": [
        {
          "output_type": "execute_result",
          "data": {
            "text/plain": [
              "torch.Size([3, 4, 5])"
            ]
          },
          "metadata": {},
          "execution_count": 24
        }
      ],
      "source": [
        "# 2. Выведите его форму (shape)\n",
        "a.shape"
      ]
    },
    {
      "cell_type": "code",
      "execution_count": 28,
      "metadata": {
        "id": "f1OTy65FofVX"
      },
      "outputs": [],
      "source": [
        "# 3. Приведите его к форме 6х10\n",
        "a = a.reshape(6, 10)"
      ]
    },
    {
      "cell_type": "code",
      "execution_count": 26,
      "metadata": {
        "id": "BEVOv9_TofVe",
        "outputId": "cebcf47d-2297-414e-9a03-33b7a19ae967",
        "colab": {
          "base_uri": "https://localhost:8080/"
        }
      },
      "outputs": [
        {
          "output_type": "execute_result",
          "data": {
            "text/plain": [
              "tensor([ 4, 65, 36, 87, 79, 49, 80, 54, 99, 39])"
            ]
          },
          "metadata": {},
          "execution_count": 26
        }
      ],
      "source": [
        "# 4. Создайте случайный IntTensor размера 10\n",
        "b = torch.randint(100, size=(10,))\n",
        "b"
      ]
    },
    {
      "cell_type": "code",
      "source": [
        "# 5. Умножьте созданный FloatTensor на созданный IntTensor поэлементно\n",
        "c = a * b\n",
        "c"
      ],
      "metadata": {
        "id": "TAX3DUiSa07K",
        "outputId": "2f7944c3-f33d-41ca-8337-8cd623191e6d",
        "colab": {
          "base_uri": "https://localhost:8080/"
        }
      },
      "execution_count": 29,
      "outputs": [
        {
          "output_type": "execute_result",
          "data": {
            "text/plain": [
              "tensor([[  -1.6605,  -74.5927,   11.1656,   61.9287,  -44.4823,  -22.4015,\n",
              "           64.4413,  -48.9916,  -61.9254,  -74.3988],\n",
              "        [   0.3906,    5.7400,   46.1911,  118.7716,    3.1095,   70.4205,\n",
              "           95.9355,   22.7639,  -14.9307,   47.2274],\n",
              "        [  -1.6147,    2.8528,  -31.3311,   30.8490,   -7.1075,   44.6112,\n",
              "          -41.1509,   -7.6777,   -6.6854,  -19.8483],\n",
              "        [   0.3768,   49.5619,  -40.8912,  234.3601,   28.2952,   -1.4027,\n",
              "          -79.9239,  -14.0229,  132.3986,  -33.7331],\n",
              "        [   0.6816,   26.8101,   23.6270,   -8.5986, -107.8210,   41.8439,\n",
              "           36.0117,   11.3894,  -55.8825,   -2.0240],\n",
              "        [  -1.4848,   10.1989,  -15.5142,   -3.2464, -133.0415,   34.5309,\n",
              "         -148.8947,   30.8608,   55.1653,    8.3283]])"
            ]
          },
          "metadata": {},
          "execution_count": 29
        }
      ]
    },
    {
      "cell_type": "code",
      "execution_count": 34,
      "metadata": {
        "id": "eUxdWlQZofVi",
        "colab": {
          "base_uri": "https://localhost:8080/"
        },
        "outputId": "baa7a65f-ac21-424c-d731-eaf75283c27c"
      },
      "outputs": [
        {
          "output_type": "execute_result",
          "data": {
            "text/plain": [
              "torch.Size([6, 6])"
            ]
          },
          "metadata": {},
          "execution_count": 34
        }
      ],
      "source": [
        "# 6. Умножьте тензор матрично на себя, чтобы результат был размерности 6x6\n",
        "# Подсказка: .dot может не подойти\n",
        "(a @ a.T).shape"
      ]
    },
    {
      "cell_type": "code",
      "execution_count": 35,
      "metadata": {
        "id": "u3V6CsNkofVj",
        "outputId": "c1e36b09-eae3-4ac5-9a4e-f5d7d28e7d42",
        "colab": {
          "base_uri": "https://localhost:8080/"
        }
      },
      "outputs": [
        {
          "output_type": "stream",
          "name": "stdout",
          "text": [
            "Значение производной в заданной точке:\n",
            "        (3.0, 1.0, -75.0)\n"
          ]
        }
      ],
      "source": [
        "# 7. Посчитайте производную функции y = x**3 + z - 75t в точке (1, 0.5, 2)\n",
        "from torch.autograd import Variable\n",
        "\n",
        "x = Variable(torch.Tensor([1]), requires_grad=True)\n",
        "z = Variable(torch.Tensor([0.5]), requires_grad=True)\n",
        "t = Variable(torch.Tensor([2]), requires_grad=True)\n",
        "\n",
        "y = x ** 3 + z - 75 * t\n",
        "\n",
        "y.backward()\n",
        "\n",
        "print(f\"Значение производной в заданной точке:\\n\\\n",
        "        ({float(x.grad)}, {float(z.grad)}, {float(t.grad)})\")"
      ]
    },
    {
      "cell_type": "code",
      "execution_count": 48,
      "metadata": {
        "id": "FzH6QkyxofVm",
        "outputId": "6ac55403-3342-4125-c47d-bcfff18812db",
        "colab": {
          "base_uri": "https://localhost:8080/"
        }
      },
      "outputs": [
        {
          "output_type": "execute_result",
          "data": {
            "text/plain": [
              "tensor([[1., 1., 1., 1., 1., 1.],\n",
              "        [1., 1., 1., 1., 1., 1.],\n",
              "        [1., 1., 1., 1., 1., 1.],\n",
              "        [1., 1., 1., 1., 1., 1.],\n",
              "        [1., 1., 1., 1., 1., 1.]])"
            ]
          },
          "metadata": {},
          "execution_count": 48
        }
      ],
      "source": [
        "# 8. Создайте единичный тензор размера 5x6\n",
        "a = torch.ones((5, 6))\n",
        "a"
      ]
    },
    {
      "cell_type": "code",
      "execution_count": 49,
      "metadata": {
        "id": "z49ttvWPofVo",
        "outputId": "ae84a90d-0896-4c0d-f5e4-dbb0b5cdc3d4",
        "colab": {
          "base_uri": "https://localhost:8080/"
        }
      },
      "outputs": [
        {
          "output_type": "execute_result",
          "data": {
            "text/plain": [
              "array([[1., 1., 1., 1., 1., 1.],\n",
              "       [1., 1., 1., 1., 1., 1.],\n",
              "       [1., 1., 1., 1., 1., 1.],\n",
              "       [1., 1., 1., 1., 1., 1.],\n",
              "       [1., 1., 1., 1., 1., 1.]], dtype=float32)"
            ]
          },
          "metadata": {},
          "execution_count": 49
        }
      ],
      "source": [
        "# 9. Переведите его в формат numpy\n",
        "import numpy as np\n",
        "\n",
        "a = a.numpy()\n",
        "a"
      ]
    }
  ],
  "metadata": {
    "kernelspec": {
      "display_name": "Python 3",
      "language": "python",
      "name": "python3"
    },
    "language_info": {
      "codemirror_mode": {
        "name": "ipython",
        "version": 3
      },
      "file_extension": ".py",
      "mimetype": "text/x-python",
      "name": "python",
      "nbconvert_exporter": "python",
      "pygments_lexer": "ipython3",
      "version": "3.7.4"
    },
    "colab": {
      "name": "HW_1.ipynb",
      "provenance": [],
      "collapsed_sections": []
    }
  },
  "nbformat": 4,
  "nbformat_minor": 0
}