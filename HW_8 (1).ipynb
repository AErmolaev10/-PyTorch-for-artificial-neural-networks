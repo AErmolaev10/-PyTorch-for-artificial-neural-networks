{
  "nbformat": 4,
  "nbformat_minor": 0,
  "metadata": {
    "colab": {
      "name": "HW_8.ipynb",
      "provenance": []
    },
    "kernelspec": {
      "name": "python3",
      "display_name": "Python 3"
    },
    "language_info": {
      "name": "python"
    },
    "accelerator": "GPU"
  },
  "cells": [
    {
      "cell_type": "code",
      "execution_count": 1,
      "metadata": {
        "id": "Tjys_h8cFsJ5"
      },
      "outputs": [],
      "source": [
        "import numpy as np\n",
        "import pandas as pd\n",
        "import random\n",
        "from sklearn.preprocessing import MinMaxScaler\n",
        "\n",
        "import matplotlib.pyplot as plt\n",
        "import matplotlib.patches as mpatches\n",
        "\n",
        "import torch\n",
        "import torch.nn as nn\n",
        "from torch.utils.data import DataLoader\n",
        "from torchvision import datasets"
      ]
    },
    {
      "cell_type": "code",
      "source": [
        "#функция вычисления значений заданной функции\n",
        "def func(x):\n",
        "    \"\"\"\n",
        "    x -- значение переменной\n",
        "    \n",
        "    Возвращает значение функции y = (np.sin(x)/x) - (x/10) при заданном х\n",
        "    \"\"\"\n",
        "    y = (np.sin(x)/x) - (x/10)\n",
        "    return y"
      ],
      "metadata": {
        "id": "lqEbYf7_F6lE"
      },
      "execution_count": 2,
      "outputs": []
    },
    {
      "cell_type": "code",
      "source": [
        "# визуализация графика функции\n",
        "\n",
        "# создаем рисунок с координатную плоскость\n",
        "fig, ax = plt.subplots(figsize=(6, 6))\n",
        "\n",
        "# область графика\n",
        "x = np.linspace(-20, 20, 100)\n",
        "\n",
        "# рисуем точки графика\n",
        "ax.scatter(x, y = func(x), color='red')\n",
        "\n",
        "# рисуем график\n",
        "plt.plot(x, func(x), color='blue')\n",
        "\n",
        "# показываем график\n",
        "plt.show()"
      ],
      "metadata": {
        "colab": {
          "base_uri": "https://localhost:8080/",
          "height": 374
        },
        "id": "b9mToK_IF86j",
        "outputId": "831adcfc-4caf-4252-f0ab-bc7eab18b98d"
      },
      "execution_count": 3,
      "outputs": [
        {
          "output_type": "display_data",
          "data": {
            "text/plain": [
              "<Figure size 432x432 with 1 Axes>"
            ],
            "image/png": "[encoded data removed]"
          },
          "metadata": {
            "needs_background": "light"
          }
        }
      ]
    },
    {
      "cell_type": "code",
      "source": [
        "#функция генерации точек, принадлежащих графику заданной функции\n",
        "def point_generator(ax, n):\n",
        "    \"\"\"\n",
        "     [-ax, ax] -- отрезок значений x\n",
        "    n -- количество значений x\n",
        "    \n",
        "    Возвращает датафрейм с координатами точек, принадлежащих графику функции y = (np.sin(x)/x) - (x/10)\n",
        "    \"\"\"\n",
        "    points = pd.DataFrame([(x, func(x)) for x in np.random.uniform(-ax, ax, size=(1, n))[0]], columns=['x', 'y'])\n",
        "    \n",
        "    return points"
      ],
      "metadata": {
        "id": "9WfLoUjhF_4K"
      },
      "execution_count": 4,
      "outputs": []
    },
    {
      "cell_type": "code",
      "source": [
        "#датасет с реальными данными (чем больше точек берем, тем лучше результат модели GAN)\n",
        "df_train = point_generator(10, 500000)\n",
        "df_train"
      ],
      "metadata": {
        "colab": {
          "base_uri": "https://localhost:8080/",
          "height": 424
        },
        "id": "ltcwXoo1GDbV",
        "outputId": "11af7769-43ff-4d72-9333-bcefdcca2b1d"
      },
      "execution_count": 5,
      "outputs": [
        {
          "output_type": "execute_result",
          "data": {
            "text/plain": [
              "               x         y\n",
              "0       1.185209  0.663263\n",
              "1       6.387801 -0.622433\n",
              "2       5.595219 -0.673006\n",
              "3       5.024100 -0.691859\n",
              "4       1.408508  0.559792\n",
              "...          ...       ...\n",
              "499995  2.079015  0.212304\n",
              "499996 -2.365408  0.532710\n",
              "499997 -3.712782  0.225664\n",
              "499998  4.643864 -0.679219\n",
              "499999 -6.580624  0.702598\n",
              "\n",
              "[500000 rows x 2 columns]"
            ],
            "text/html": [
              "\n",
              "  <div id=\"df-804b2161-6f05-4f4d-a238-ce195e3c4079\">\n",
              "    <div class=\"colab-df-container\">\n",
              "      <div>\n",
              "<style scoped>\n",
              "    .dataframe tbody tr th:only-of-type {\n",
              "        vertical-align: middle;\n",
              "    }\n",
              "\n",
              "    .dataframe tbody tr th {\n",
              "        vertical-align: top;\n",
              "    }\n",
              "\n",
              "    .dataframe thead th {\n",
              "        text-align: right;\n",
              "    }\n",
              "</style>\n",
              "<table border=\"1\" class=\"dataframe\">\n",
              "  <thead>\n",
              "    <tr style=\"text-align: right;\">\n",
              "      <th></th>\n",
              "      <th>x</th>\n",
              "      <th>y</th>\n",
              "    </tr>\n",
              "  </thead>\n",
              "  <tbody>\n",
              "    <tr>\n",
              "      <th>0</th>\n",
              "      <td>1.185209</td>\n",
              "      <td>0.663263</td>\n",
              "    </tr>\n",
              "    <tr>\n",
              "      <th>1</th>\n",
              "      <td>6.387801</td>\n",
              "      <td>-0.622433</td>\n",
              "    </tr>\n",
              "    <tr>\n",
              "      <th>2</th>\n",
              "      <td>5.595219</td>\n",
              "      <td>-0.673006</td>\n",
              "    </tr>\n",
              "    <tr>\n",
              "      <th>3</th>\n",
              "      <td>5.024100</td>\n",
              "      <td>-0.691859</td>\n",
              "    </tr>\n",
              "    <tr>\n",
              "      <th>4</th>\n",
              "      <td>1.408508</td>\n",
              "      <td>0.559792</td>\n",
              "    </tr>\n",
              "    <tr>\n",
              "      <th>...</th>\n",
              "      <td>...</td>\n",
              "      <td>...</td>\n",
              "    </tr>\n",
              "    <tr>\n",
              "      <th>499995</th>\n",
              "      <td>2.079015</td>\n",
              "      <td>0.212304</td>\n",
              "    </tr>\n",
              "    <tr>\n",
              "      <th>499996</th>\n",
              "      <td>-2.365408</td>\n",
              "      <td>0.532710</td>\n",
              "    </tr>\n",
              "    <tr>\n",
              "      <th>499997</th>\n",
              "      <td>-3.712782</td>\n",
              "      <td>0.225664</td>\n",
              "    </tr>\n",
              "    <tr>\n",
              "      <th>499998</th>\n",
              "      <td>4.643864</td>\n",
              "      <td>-0.679219</td>\n",
              "    </tr>\n",
              "    <tr>\n",
              "      <th>499999</th>\n",
              "      <td>-6.580624</td>\n",
              "      <td>0.702598</td>\n",
              "    </tr>\n",
              "  </tbody>\n",
              "</table>\n",
              "<p>500000 rows × 2 columns</p>\n",
              "</div>\n",
              "      <button class=\"colab-df-convert\" onclick=\"convertToInteractive('df-804b2161-6f05-4f4d-a238-ce195e3c4079')\"\n",
              "              title=\"Convert this dataframe to an interactive table.\"\n",
              "              style=\"display:none;\">\n",
              "        \n",
              "  <svg xmlns=\"http://www.w3.org/2000/svg\" height=\"24px\"viewBox=\"0 0 24 24\"\n",
              "       width=\"24px\">\n",
              "    <path d=\"M0 0h24v24H0V0z\" fill=\"none\"/>\n",
              "    <path d=\"M18.56 5.44l.94 2.06.94-2.06 2.06-.94-2.06-.94-.94-2.06-.94 2.06-2.06.94zm-11 1L8.5 8.5l.94-2.06 2.06-.94-2.06-.94L8.5 2.5l-.94 2.06-2.06.94zm10 10l.94 2.06.94-2.06 2.06-.94-2.06-.94-.94-2.06-.94 2.06-2.06.94z\"/><path d=\"M17.41 7.96l-1.37-1.37c-.4-.4-.92-.59-1.43-.59-.52 0-1.04.2-1.43.59L10.3 9.45l-7.72 7.72c-.78.78-.78 2.05 0 2.83L4 21.41c.39.39.9.59 1.41.59.51 0 1.02-.2 1.41-.59l7.78-7.78 2.81-2.81c.8-.78.8-2.07 0-2.86zM5.41 20L4 18.59l7.72-7.72 1.47 1.35L5.41 20z\"/>\n",
              "  </svg>\n",
              "      </button>\n",
              "      \n",
              "  <style>\n",
              "    .colab-df-container {\n",
              "      display:flex;\n",
              "      flex-wrap:wrap;\n",
              "      gap: 12px;\n",
              "    }\n",
              "\n",
              "    .colab-df-convert {\n",
              "      background-color: #E8F0FE;\n",
              "      border: none;\n",
              "      border-radius: 50%;\n",
              "      cursor: pointer;\n",
              "      display: none;\n",
              "      fill: #1967D2;\n",
              "      height: 32px;\n",
              "      padding: 0 0 0 0;\n",
              "      width: 32px;\n",
              "    }\n",
              "\n",
              "    .colab-df-convert:hover {\n",
              "      background-color: #E2EBFA;\n",
              "      box-shadow: 0px 1px 2px rgba(60, 64, 67, 0.3), 0px 1px 3px 1px rgba(60, 64, 67, 0.15);\n",
              "      fill: #174EA6;\n",
              "    }\n",
              "\n",
              "    [theme=dark] .colab-df-convert {\n",
              "      background-color: #3B4455;\n",
              "      fill: #D2E3FC;\n",
              "    }\n",
              "\n",
              "    [theme=dark] .colab-df-convert:hover {\n",
              "      background-color: #434B5C;\n",
              "      box-shadow: 0px 1px 3px 1px rgba(0, 0, 0, 0.15);\n",
              "      filter: drop-shadow(0px 1px 2px rgba(0, 0, 0, 0.3));\n",
              "      fill: #FFFFFF;\n",
              "    }\n",
              "  </style>\n",
              "\n",
              "      <script>\n",
              "        const buttonEl =\n",
              "          document.querySelector('#df-804b2161-6f05-4f4d-a238-ce195e3c4079 button.colab-df-convert');\n",
              "        buttonEl.style.display =\n",
              "          google.colab.kernel.accessAllowed ? 'block' : 'none';\n",
              "\n",
              "        async function convertToInteractive(key) {\n",
              "          const element = document.querySelector('#df-804b2161-6f05-4f4d-a238-ce195e3c4079');\n",
              "          const dataTable =\n",
              "            await google.colab.kernel.invokeFunction('convertToInteractive',\n",
              "                                                     [key], {});\n",
              "          if (!dataTable) return;\n",
              "\n",
              "          const docLinkHtml = 'Like what you see? Visit the ' +\n",
              "            '<a target=\"_blank\" href=https://colab.research.google.com/notebooks/data_table.ipynb>data table notebook</a>'\n",
              "            + ' to learn more about interactive tables.';\n",
              "          element.innerHTML = '';\n",
              "          dataTable['output_type'] = 'display_data';\n",
              "          await google.colab.output.renderOutput(dataTable, element);\n",
              "          const docLink = document.createElement('div');\n",
              "          docLink.innerHTML = docLinkHtml;\n",
              "          element.appendChild(docLink);\n",
              "        }\n",
              "      </script>\n",
              "    </div>\n",
              "  </div>\n",
              "  "
            ]
          },
          "metadata": {},
          "execution_count": 5
        }
      ]
    },
    {
      "cell_type": "code",
      "source": [
        "#отрисовка реальных данных\n",
        "x,y = df_train.values.T\n",
        "plt.scatter(x,y,label='real_points')\n",
        "plt.legend()\n",
        "plt.show()"
      ],
      "metadata": {
        "colab": {
          "base_uri": "https://localhost:8080/",
          "height": 265
        },
        "id": "6DWH64rzGGZG",
        "outputId": "fecb9cb7-19af-4a17-abd8-74a877bb150c"
      },
      "execution_count": 6,
      "outputs": [
        {
          "output_type": "display_data",
          "data": {
            "text/plain": [
              "<Figure size 432x288 with 1 Axes>"
            ],
            "image/png": "[encoded data removed]"
          },
          "metadata": {
            "needs_background": "light"
          }
        }
      ]
    },
    {
      "cell_type": "code",
      "source": [
        "# Нормализуем данные\n",
        "scaler = MinMaxScaler()\n",
        "data_train = scaler.fit_transform(df_train)  \n",
        "data_train = torch.FloatTensor(data_train).float()\n",
        "data_train"
      ],
      "metadata": {
        "colab": {
          "base_uri": "https://localhost:8080/"
        },
        "id": "aOZU8nL9GMMW",
        "outputId": "5a1f00ab-22f2-4430-dee0-bc594c751c76"
      },
      "execution_count": 7,
      "outputs": [
        {
          "output_type": "execute_result",
          "data": {
            "text/plain": [
              "tensor([[0.5593, 0.8300],\n",
              "        [0.8194, 0.2087],\n",
              "        [0.7798, 0.1843],\n",
              "        ...,\n",
              "        [0.3144, 0.6185],\n",
              "        [0.7322, 0.1813],\n",
              "        [0.1710, 0.8490]])"
            ]
          },
          "metadata": {},
          "execution_count": 7
        }
      ]
    },
    {
      "cell_type": "code",
      "source": [
        "# класс датасета\n",
        "class MyOwnClass(torch.utils.data.Dataset):\n",
        "   \n",
        "    def __init__(self, data):\n",
        "        self._data = data\n",
        "\n",
        "    def __len__(self):\n",
        "        return len(self._data)\n",
        "\n",
        "    def __getitem__(self, idx):\n",
        "        point = self._data[idx] \n",
        "       \n",
        "        return point"
      ],
      "metadata": {
        "id": "0HiWpM1aGSXw"
      },
      "execution_count": 8,
      "outputs": []
    },
    {
      "cell_type": "code",
      "source": [
        "# создание представителя датасета и его даталоадер\n",
        "train_dataset = MyOwnClass(data_train)\n",
        "\n",
        "train_loader = torch.utils.data.DataLoader(train_dataset,\n",
        "                          batch_size=128,\n",
        "                          shuffle=True,\n",
        "                          drop_last=True,\n",
        "                          num_workers=0)"
      ],
      "metadata": {
        "id": "PqxII56nGbJ3"
      },
      "execution_count": 9,
      "outputs": []
    },
    {
      "cell_type": "code",
      "source": [
        "# элементы тренировочного даталоадера\n",
        "for idx, batch in enumerate(train_loader):\n",
        "    print(batch.shape) # 128 батчей с 2 признаками\n",
        "    break"
      ],
      "metadata": {
        "colab": {
          "base_uri": "https://localhost:8080/"
        },
        "id": "46KyfoakGeCX",
        "outputId": "87d9c40b-c50e-4b01-ab15-5e9d7db4e613"
      },
      "execution_count": 10,
      "outputs": [
        {
          "output_type": "stream",
          "name": "stdout",
          "text": [
            "torch.Size([128, 2])\n"
          ]
        }
      ]
    },
    {
      "cell_type": "code",
      "source": [
        "# Функция для построения графиков\n",
        "def plot_points(gen_points, real_points):\n",
        "    # создаем рисунок с координатную плоскость\n",
        "    fig, ax = plt.subplots(figsize=(6, 6))\n",
        "\n",
        "    #отрисовка реальных точек\n",
        "    a,b = (real_points.detach()).T\n",
        "    plt.scatter(a,b, color='green',label='real_points') \n",
        "    \n",
        "    #отрисовка сгенерированных точек\n",
        "    x, y = (gen_points.detach()).T\n",
        "    plt.scatter(x,y, color='red', label='generated_points') \n",
        "\n",
        "    plt.legend()\n",
        "    plt.show()"
      ],
      "metadata": {
        "id": "uwS9VQrJGhMn"
      },
      "execution_count": 11,
      "outputs": []
    },
    {
      "cell_type": "code",
      "source": [
        "class Generator(nn.Module):\n",
        "    def __init__(self):\n",
        "        super().__init__()\n",
        "        \n",
        "        self.activations = nn.ModuleDict([\n",
        "            ['lrelu', nn.LeakyReLU(0.2, inplace=True)],\n",
        "            ['relu', nn.ReLU()]\n",
        "        ])\n",
        "        \n",
        "        def block(in_feat, out_feat, normalize=True, activation='relu'):\n",
        "            layers = [nn.Linear(in_feat, out_feat)]  #\n",
        "                                                     \n",
        "            if normalize:\n",
        "                layers.append(nn.BatchNorm1d(out_feat))\n",
        "            layers.append(self.activations[activation])  \n",
        "            return layers\n",
        "\n",
        "        self.model = nn.Sequential(\n",
        "            *block(latent_dim, 128, normalize=False),  \n",
        "            *block(128, 256, activation='lrelu'),\n",
        "            *block(256, 512),\n",
        "            *block(512, 1024),\n",
        "             nn.Linear(1024, 2),\n",
        "             nn.Linear(2, 2),\n",
        "             nn.Tanh()\n",
        "        )\n",
        "        \n",
        "    def forward(self, z):\n",
        "        new_point = self.model(z)\n",
        "        new_point = new_point.reshape(-1, 2)\n",
        "        return new_point "
      ],
      "metadata": {
        "id": "Cwx5TvkIGjsu"
      },
      "execution_count": 12,
      "outputs": []
    },
    {
      "cell_type": "code",
      "source": [
        "class CustomLinearLayer(nn.Module):\n",
        "    def __init__(self, size_in, size_out):\n",
        "        super().__init__()\n",
        "        self.size_in, self.size_out = size_in, size_out\n",
        "        \n",
        "        weights = torch.Tensor(size_out, size_in)\n",
        "        self.weights = nn.Parameter(weights) # Обьявляем веса как параметры слоя\n",
        "\n",
        "        bias = torch.Tensor(size_out)\n",
        "        self.bias = nn.Parameter(bias)\n",
        "\n",
        "        nn.init.uniform_(self.weights, -0.005, 0.005) \n",
        "        nn.init.uniform_(self.bias, -0.005, 0.005)  \n",
        "\n",
        "    def forward(self, x):\n",
        "        # По формуле линейного слоя, нам нужно умножить наши данные \n",
        "        # на транспонированные веса и добавить смещение\n",
        "        w_times_x = torch.mm(x, self.weights.t())\n",
        "        return torch.add(w_times_x, self.bias)  "
      ],
      "metadata": {
        "id": "NZc_iR6WGu7E"
      },
      "execution_count": 13,
      "outputs": []
    },
    {
      "cell_type": "code",
      "source": [
        "class Discriminator(nn.Module):\n",
        "    def __init__(self):\n",
        "        super().__init__()\n",
        "\n",
        "        self.model = nn.Sequential(\n",
        "            CustomLinearLayer(2, 512),\n",
        "            nn.LeakyReLU(0.2, inplace=True),\n",
        "            CustomLinearLayer(512, 256),\n",
        "            nn.LeakyReLU(0.2, inplace=True),\n",
        "            CustomLinearLayer(256, 1),\n",
        "            nn.Sigmoid()\n",
        "        )\n",
        "  \n",
        "\n",
        "    def forward(self, img):\n",
        "        img_flat = img\n",
        "        validity = self.model(img_flat)\n",
        "        return validity"
      ],
      "metadata": {
        "id": "XKBGBq2GG0NU"
      },
      "execution_count": 14,
      "outputs": []
    },
    {
      "cell_type": "code",
      "source": [
        "n_epochs = 20 \n",
        "lr = 0.0002 \n",
        "\n",
        "b1 = 0.5  \n",
        "b2 = 0.999  \n",
        "\n",
        "latent_dim = 100  \n",
        "\n",
        "sample_interval = 500  \n",
        "\n",
        "batch_size = 128"
      ],
      "metadata": {
        "id": "3e98aTwhG2dd"
      },
      "execution_count": 15,
      "outputs": []
    },
    {
      "cell_type": "code",
      "source": [
        "generator = Generator()\n",
        "discriminator = Discriminator()\n",
        "\n",
        "# опитимизатор для каждой сети\n",
        "optimizer_G = torch.optim.Adam(\n",
        "    generator.parameters(),\n",
        "    lr=lr, \n",
        "    betas=(b1, b2)\n",
        ")\n",
        "optimizer_D = torch.optim.Adam(\n",
        "    discriminator.parameters(), \n",
        "    lr=lr, \n",
        "    betas=(b1, b2)\n",
        ")\n",
        "\n",
        "# функция ошибки\n",
        "adversarial_loss = torch.nn.BCELoss()"
      ],
      "metadata": {
        "id": "QbCggG_vG7yt"
      },
      "execution_count": 16,
      "outputs": []
    },
    {
      "cell_type": "code",
      "source": [
        "d_loss_history = []\n",
        "g_loss_history = []"
      ],
      "metadata": {
        "id": "6CtxjhcfG_X9"
      },
      "execution_count": 17,
      "outputs": []
    },
    {
      "cell_type": "code",
      "source": [
        "from IPython import display"
      ],
      "metadata": {
        "id": "cUUGlQ19IfwW"
      },
      "execution_count": 20,
      "outputs": []
    },
    {
      "cell_type": "code",
      "source": [
        "red_patch = mpatches.Patch(color='red', label='D loss')\n",
        "green_patch = mpatches.Patch(color='green', label='G loss')\n",
        "\n",
        "\n",
        "for epoch in range(n_epochs):\n",
        "    for i, points in enumerate(train_loader):\n",
        "        \n",
        "##################### Лейблы для данных: 1 - настоящие, 0 - сгенерированные ########\n",
        "        valid = torch.FloatTensor(batch_size, 1).fill_(1.0) #(B,1) -- столбец-лейблов 1\n",
        "        fake = torch.FloatTensor(batch_size, 1).fill_(0.0)  #(B,1)  -- столбец-лейблов 0\n",
        "\n",
        "        real_points = points.type(torch.FloatTensor) #(B,2) -- реальные данные\n",
        "\n",
        "        # Генерация шума (B,latent_dim)\n",
        "        z = torch.FloatTensor(np.random.normal(0, 1, (batch_size, latent_dim)))\n",
        "        # Генерируем данные Генератором на основе шума\n",
        "        gen_points = generator(z)   #(B,2) -- сгенерированные данные\n",
        "        \n",
        "######################  Тренировка дискриминатора    ##########################\n",
        "        \n",
        "        # Получаем предсказания дискриминатора на основе реальных данных\n",
        "        real_pred = discriminator(real_points)  #(B,1)\n",
        "        \n",
        "        # Тут сравниваем предсказанные значения Дискриминатора(на основе настоящих данных) с настоящими\n",
        "        d_real_loss = adversarial_loss(real_pred, valid)\n",
        "        \n",
        "        # Подаем сгенерированые данные на Дискриминатор \n",
        "        fake_pred = discriminator(gen_points) #(B,1)\n",
        "        \n",
        "        # расчитываем ошибку предсказанного с фейковыми лейблами\n",
        "        d_fake_loss = adversarial_loss(fake_pred, fake)\n",
        "        \n",
        "        # И усредняем два лосса в один\n",
        "        d_loss = (d_real_loss + d_fake_loss) / 2\n",
        "\n",
        "        optimizer_D.zero_grad()\n",
        "        d_loss.backward()\n",
        "        optimizer_D.step()\n",
        "\n",
        "######################  Тренировка генератора    ##########################\n",
        "        \n",
        "        # генерация шума\n",
        "        z = torch.FloatTensor(np.random.normal(0, 1, (batch_size, latent_dim))) #(B,latent_dim)\n",
        "        \n",
        "        # Генерируем данные Генератором на основе шума\n",
        "        gen_points = generator(z)  #(B,2)\n",
        "\n",
        "        # Подаем сгенерированые данные на Дискриминатор \n",
        "        fake_pred = discriminator(gen_points)  #(B,1)\n",
        "    \n",
        "        # Тут сравниваем предсказанные значения Дискриминатора (на основе сгенерировнных данных) с настоящими\n",
        "        g_loss = adversarial_loss(fake_pred, valid)\n",
        "        \n",
        "        # Делаем шаг обучения нашего Генератора\n",
        "        optimizer_G.zero_grad()\n",
        "        g_loss.backward()\n",
        "        optimizer_G.step()\n",
        "\n",
        "        \n",
        "######## Отображение процесса обучения и вывод функций потерь ############\n",
        "        batches_done = epoch * len(train_loader) + i\n",
        "    \n",
        "        if batches_done % sample_interval == 0:\n",
        "            with torch.no_grad():\n",
        "                plt.clf()\n",
        "                \n",
        "                display.clear_output(wait=False)\n",
        "                plot_points(gen_points, real_points)\n",
        "                \n",
        "                print(f\"[Epoch {epoch}/{n_epochs}] [Batch {i}/{len(train_loader)}]\", end='|')\n",
        "                print(f'[D loss: {d_loss.item()}] [G loss: {g_loss.item()}]') \n",
        "\n",
        "\n",
        "                d_loss = d_loss.detach()  #новый тензор без градиента\n",
        "                g_loss = g_loss.detach()\n",
        "\n",
        "                d_loss_history.append(d_loss)\n",
        "                g_loss_history.append(g_loss)\n",
        "\n",
        "                plt.plot(np.array(d_loss_history), label='D loss')\n",
        "                plt.plot(np.array(g_loss_history), label='G loss')\n",
        "                plt.legend()\n",
        "                plt.show()        "
      ],
      "metadata": {
        "colab": {
          "base_uri": "https://localhost:8080/",
          "height": 657
        },
        "id": "hlDXO9zYHCeJ",
        "outputId": "bd38f0d7-0501-402f-a7a9-cf6e67b0f015"
      },
      "execution_count": 21,
      "outputs": [
        {
          "output_type": "display_data",
          "data": {
            "text/plain": [
              "<Figure size 432x288 with 0 Axes>"
            ]
          },
          "metadata": {}
        },
        {
          "output_type": "display_data",
          "data": {
            "text/plain": [
              "<Figure size 432x432 with 1 Axes>"
            ],
            "image/png": "[encoded data removed]"
          },
          "metadata": {
            "needs_background": "light"
          }
        },
        {
          "output_type": "stream",
          "name": "stdout",
          "text": [
            "[Epoch 19/20] [Batch 3786/3906]|[D loss: 0.6929534673690796] [G loss: 0.693814218044281]\n"
          ]
        },
        {
          "output_type": "display_data",
          "data": {
            "text/plain": [
              "<Figure size 432x288 with 1 Axes>"
            ],
            "image/png": "[encoded data removed]"
          },
          "metadata": {
            "needs_background": "light"
          }
        }
      ]
    }
  ]
}