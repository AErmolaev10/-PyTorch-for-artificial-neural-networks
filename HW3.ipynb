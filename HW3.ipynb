{
  "nbformat": 4,
  "nbformat_minor": 0,
  "metadata": {
    "colab": {
      "name": "HW3.ipynb",
      "provenance": []
    },
    "kernelspec": {
      "name": "python3",
      "display_name": "Python 3"
    },
    "language_info": {
      "name": "python"
    }
  },
  "cells": [
    {
      "cell_type": "code",
      "execution_count": 1,
      "metadata": {
        "id": "BBLQTUWhgZk2"
      },
      "outputs": [],
      "source": [
        "import numpy as np\n",
        "import pandas as pd\n",
        "\n",
        "import torch\n",
        "from torch import nn\n",
        "from torch.optim import Adam, RMSprop, SGD\n",
        "from torch.utils.data import DataLoader, Dataset\n",
        "\n",
        "from sklearn.datasets import fetch_california_housing\n",
        "from sklearn.model_selection import train_test_split\n",
        "from sklearn.preprocessing import StandardScaler"
      ]
    },
    {
      "cell_type": "code",
      "source": [
        "DEVICE = torch.device(\"cuda\" if torch.cuda.is_available() else \"cpu\")\n",
        "EPOCHES = 10\n",
        "LR = 0.01"
      ],
      "metadata": {
        "id": "GqIxzQmBgm0c"
      },
      "execution_count": 2,
      "outputs": []
    },
    {
      "cell_type": "code",
      "source": [
        "class CHDataset(Dataset):\n",
        "  def __init__(self, *init_datasets):\n",
        "    assert all(init_datasets[0].size(0) == init_dataset.size(0) for init_dataset in init_datasets), \"Несоотвутствует размерность среди dataset\"\n",
        "    self._base_datasets = init_datasets\n",
        "  \n",
        "  def __len__(self):\n",
        "    return self._base_datasets[0].size(0)\n",
        "  \n",
        "  def __getitem__(self, idx):\n",
        "      return tuple(base_dataset[idx] for base_dataset in self._base_datasets)"
      ],
      "metadata": {
        "id": "ztMcWMTZiFQV"
      },
      "execution_count": 3,
      "outputs": []
    },
    {
      "cell_type": "code",
      "source": [
        "class CHNet(nn.Module):\n",
        "  def __init__(self) -> None:\n",
        "      super(CHNet, self).__init__()\n",
        "      self.block_1 = nn.Sequential(\n",
        "          nn.Linear(in_features=8, out_features=100, bias=True),\n",
        "          nn.Dropout(0.1),\n",
        "          nn.BatchNorm1d(100),\n",
        "          nn.ReLU())\n",
        "      self.block_2 = nn.Sequential(\n",
        "          nn.Linear(in_features=100, out_features=100, bias=True),\n",
        "          nn.Dropout(0.2),\n",
        "          nn.BatchNorm1d(100),\n",
        "          nn.ReLU())\n",
        "      self.block_3 = nn.Sequential(\n",
        "          nn.Linear(in_features=100, out_features=60, bias=True),\n",
        "          nn.Dropout(0.2),\n",
        "          nn.BatchNorm1d(60),\n",
        "          nn.ReLU())\n",
        "      self.block_4 = nn.Sequential(\n",
        "          nn.Linear(in_features=60, out_features=30),\n",
        "          nn.Dropout(0.2),\n",
        "          nn.BatchNorm1d(30),\n",
        "          nn.ReLU())\n",
        "      self.predict = nn.Sequential(\n",
        "          nn.Linear(in_features=30, out_features=1, bias=True),\n",
        "          nn.BatchNorm1d(1),\n",
        "          nn.ReLU())\n",
        "  \n",
        "  def forward(self, inp):\n",
        "    out = self.block_1(inp)\n",
        "    out = self.block_2(out)\n",
        "    out = self.block_3(out)\n",
        "    out = self.block_4(out)\n",
        "    out = self.predict(out)\n",
        "    return out[:, 0]"
      ],
      "metadata": {
        "id": "2sH6GieeiJIV"
      },
      "execution_count": 4,
      "outputs": []
    },
    {
      "cell_type": "code",
      "source": [
        "def train_loop(train_loader, test_loader, net, optimizer):\n",
        "  loss_fn = nn.MSELoss()\n",
        "  best_acc = {'train': None, 'test': None}\n",
        "  net.train()\n",
        "  for epoch in range(EPOCHES):\n",
        "    running_loss, running_items, running_right = 0.0, 0.0, 0.0\n",
        "    for i, (inputs, labels) in enumerate(train_loader):\n",
        "        \n",
        "        outputs = net(inputs)\n",
        "        loss = loss_fn(outputs, labels)\n",
        "\n",
        "        # обнуляем градиент\n",
        "        optimizer.zero_grad()\n",
        "        loss.backward()\n",
        "        optimizer.step()\n",
        "\n",
        "        # выводим статистику о процессе обучения\n",
        "        running_loss += loss.item()\n",
        "        running_items += len(labels)\n",
        "        \n",
        "        # выводим статистику о процессе обучения\n",
        "        if i % 150 == 0 or (i + 1) == len(train_loader):    # печатаем каждые 150 mini-batches\n",
        "            net.eval()\n",
        "\n",
        "            test_loss, test_running_total, test_loss  = 0.0, 0.0, 0.0\n",
        "            for y, (out_test, lbl_test) in enumerate(test_loader):\n",
        "                test_outputs = net(out_test)\n",
        "                test_loss += loss_fn(test_outputs, lbl_test)\n",
        "                test_running_total += len(lbl_test)\n",
        "            \n",
        "            res_loss_train = running_loss / running_items\n",
        "            res_loss_test = test_loss / test_running_total\n",
        "            \n",
        "            if best_acc['train'] is None or res_loss_train < best_acc['train']:\n",
        "              best_acc['train'] = res_loss_train\n",
        "            \n",
        "            if best_acc['test'] is None or res_loss_test < best_acc['test']:\n",
        "              best_acc['test'] = res_loss_train\n",
        "\n",
        "            print(f'Epoch [{epoch + 1}/{EPOCHES}]. ' \\\n",
        "                  f'Step [{i + 1}/{len(train_loader)}]. ' \\\n",
        "                  f'Loss: {res_loss_train:.3f}. '\\\n",
        "                  f'Test acc: {res_loss_test:.3f}.')\n",
        "            \n",
        "            running_loss, running_items = 0.0, 0.0\n",
        "            net.train()\n",
        "  print(f\"Best acc train: {best_acc['train']:.3f}. Best acc test: {best_acc['test']:.3f}\")\n",
        "  print('Training is finished!')"
      ],
      "metadata": {
        "id": "Nhi6wg67iOzq"
      },
      "execution_count": 5,
      "outputs": []
    },
    {
      "cell_type": "code",
      "source": [
        "california_housing = fetch_california_housing()\n",
        "# Разделим на тестовые и тренеровочные данные\n",
        "X_train, X_test, y_train, y_test = train_test_split(california_housing.data, california_housing.target, test_size=0.25, random_state=13)"
      ],
      "metadata": {
        "id": "jL040JmoiSRR"
      },
      "execution_count": 6,
      "outputs": []
    },
    {
      "cell_type": "code",
      "source": [
        "# Нормализуем данные и подготовим их для дальнейшего использования в нашем dstaset\n",
        "scale = StandardScaler()\n",
        "X_train_s = scale.fit_transform(X_train)\n",
        "X_test_s = scale.transform(X_test)"
      ],
      "metadata": {
        "id": "ndnclZQ3iVrr"
      },
      "execution_count": 7,
      "outputs": []
    },
    {
      "cell_type": "code",
      "source": [
        "train_xt = torch.from_numpy(X_train_s.astype(np.float32)).to(DEVICE)\n",
        "train_yt = torch.from_numpy(y_train.astype(np.float32)).to(DEVICE)\n",
        "\n",
        "test_xt = torch.from_numpy(X_test_s.astype(np.float32)).to(DEVICE)\n",
        "test_yt = torch.from_numpy(y_test.astype(np.float32)).to(DEVICE)"
      ],
      "metadata": {
        "id": "HtR82DS4iYHc"
      },
      "execution_count": 8,
      "outputs": []
    },
    {
      "cell_type": "code",
      "source": [
        "train_dataset = CHDataset(train_xt, train_yt)\n",
        "test_dataset = CHDataset(test_xt, test_yt)"
      ],
      "metadata": {
        "id": "wzFh4jF4iaiO"
      },
      "execution_count": 9,
      "outputs": []
    },
    {
      "cell_type": "code",
      "source": [
        "train_loader = DataLoader(train_dataset, batch_size=64, shuffle=True, num_workers=2, drop_last=True)\n",
        "test_loader = DataLoader(test_dataset, batch_size=64, shuffle=True, num_workers=2, drop_last=True)"
      ],
      "metadata": {
        "id": "i2RvU0ZDidMZ"
      },
      "execution_count": 10,
      "outputs": []
    },
    {
      "cell_type": "markdown",
      "source": [
        "Adam"
      ],
      "metadata": {
        "id": "YZFPlEWbioS8"
      }
    },
    {
      "cell_type": "code",
      "source": [
        "net = CHNet().to(DEVICE)\n",
        "optimizer = Adam(net.parameters(), lr=LR)"
      ],
      "metadata": {
        "id": "TzA65RdwiplY"
      },
      "execution_count": 11,
      "outputs": []
    },
    {
      "cell_type": "code",
      "source": [
        "%%time\n",
        "train_loop(train_loader, test_loader, net, optimizer)"
      ],
      "metadata": {
        "colab": {
          "base_uri": "https://localhost:8080/"
        },
        "id": "PE3QWatgitlr",
        "outputId": "ff6cfc08-0859-44bc-d85d-d88fa785ed5a"
      },
      "execution_count": 12,
      "outputs": [
        {
          "output_type": "stream",
          "name": "stdout",
          "text": [
            "Epoch [1/10]. Step [1/241]. Loss: 0.067. Test acc: 0.088.\n",
            "Epoch [1/10]. Step [151/241]. Loss: 0.027. Test acc: 0.012.\n",
            "Epoch [1/10]. Step [241/241]. Loss: 0.010. Test acc: 0.009.\n",
            "Epoch [2/10]. Step [1/241]. Loss: 0.008. Test acc: 0.009.\n",
            "Epoch [2/10]. Step [151/241]. Loss: 0.009. Test acc: 0.010.\n",
            "Epoch [2/10]. Step [241/241]. Loss: 0.007. Test acc: 0.012.\n",
            "Epoch [3/10]. Step [1/241]. Loss: 0.007. Test acc: 0.012.\n",
            "Epoch [3/10]. Step [151/241]. Loss: 0.008. Test acc: 0.006.\n",
            "Epoch [3/10]. Step [241/241]. Loss: 0.007. Test acc: 0.006.\n",
            "Epoch [4/10]. Step [1/241]. Loss: 0.009. Test acc: 0.006.\n",
            "Epoch [4/10]. Step [151/241]. Loss: 0.007. Test acc: 0.007.\n",
            "Epoch [4/10]. Step [241/241]. Loss: 0.007. Test acc: 0.010.\n",
            "Epoch [5/10]. Step [1/241]. Loss: 0.008. Test acc: 0.010.\n",
            "Epoch [5/10]. Step [151/241]. Loss: 0.007. Test acc: 0.008.\n",
            "Epoch [5/10]. Step [241/241]. Loss: 0.006. Test acc: 0.007.\n",
            "Epoch [6/10]. Step [1/241]. Loss: 0.004. Test acc: 0.007.\n",
            "Epoch [6/10]. Step [151/241]. Loss: 0.007. Test acc: 0.012.\n",
            "Epoch [6/10]. Step [241/241]. Loss: 0.006. Test acc: 0.006.\n",
            "Epoch [7/10]. Step [1/241]. Loss: 0.006. Test acc: 0.006.\n",
            "Epoch [7/10]. Step [151/241]. Loss: 0.006. Test acc: 0.007.\n",
            "Epoch [7/10]. Step [241/241]. Loss: 0.006. Test acc: 0.006.\n",
            "Epoch [8/10]. Step [1/241]. Loss: 0.005. Test acc: 0.006.\n",
            "Epoch [8/10]. Step [151/241]. Loss: 0.006. Test acc: 0.010.\n",
            "Epoch [8/10]. Step [241/241]. Loss: 0.006. Test acc: 0.010.\n",
            "Epoch [9/10]. Step [1/241]. Loss: 0.008. Test acc: 0.010.\n",
            "Epoch [9/10]. Step [151/241]. Loss: 0.006. Test acc: 0.005.\n",
            "Epoch [9/10]. Step [241/241]. Loss: 0.006. Test acc: 0.008.\n",
            "Epoch [10/10]. Step [1/241]. Loss: 0.006. Test acc: 0.008.\n",
            "Epoch [10/10]. Step [151/241]. Loss: 0.006. Test acc: 0.008.\n",
            "Epoch [10/10]. Step [241/241]. Loss: 0.006. Test acc: 0.007.\n",
            "Best acc train: 0.004. Best acc test: 0.006\n",
            "Training is finished!\n",
            "CPU times: user 16.6 s, sys: 2.76 s, total: 19.4 s\n",
            "Wall time: 27.1 s\n"
          ]
        }
      ]
    },
    {
      "cell_type": "markdown",
      "source": [
        "RMSProp"
      ],
      "metadata": {
        "id": "jV0-Fs61iwDU"
      }
    },
    {
      "cell_type": "code",
      "source": [
        "net = CHNet().to(DEVICE)\n",
        "optimizer = RMSprop(net.parameters(), lr=LR)"
      ],
      "metadata": {
        "id": "NL2FZTWiiw7J"
      },
      "execution_count": 13,
      "outputs": []
    },
    {
      "cell_type": "code",
      "source": [
        "%%time\n",
        "train_loop(train_loader, test_loader, net, optimizer)"
      ],
      "metadata": {
        "colab": {
          "base_uri": "https://localhost:8080/"
        },
        "id": "cgypSUm-izVm",
        "outputId": "47111d82-3d8c-46eb-a487-de4a528527b7"
      },
      "execution_count": 14,
      "outputs": [
        {
          "output_type": "stream",
          "name": "stdout",
          "text": [
            "Epoch [1/10]. Step [1/241]. Loss: 0.056. Test acc: 0.057.\n",
            "Epoch [1/10]. Step [151/241]. Loss: 0.015. Test acc: 0.010.\n",
            "Epoch [1/10]. Step [241/241]. Loss: 0.009. Test acc: 0.009.\n",
            "Epoch [2/10]. Step [1/241]. Loss: 0.005. Test acc: 0.009.\n",
            "Epoch [2/10]. Step [151/241]. Loss: 0.008. Test acc: 0.011.\n",
            "Epoch [2/10]. Step [241/241]. Loss: 0.007. Test acc: 0.009.\n",
            "Epoch [3/10]. Step [1/241]. Loss: 0.005. Test acc: 0.009.\n",
            "Epoch [3/10]. Step [151/241]. Loss: 0.007. Test acc: 0.011.\n",
            "Epoch [3/10]. Step [241/241]. Loss: 0.007. Test acc: 0.012.\n",
            "Epoch [4/10]. Step [1/241]. Loss: 0.004. Test acc: 0.012.\n",
            "Epoch [4/10]. Step [151/241]. Loss: 0.007. Test acc: 0.010.\n",
            "Epoch [4/10]. Step [241/241]. Loss: 0.006. Test acc: 0.006.\n",
            "Epoch [5/10]. Step [1/241]. Loss: 0.006. Test acc: 0.005.\n",
            "Epoch [5/10]. Step [151/241]. Loss: 0.006. Test acc: 0.012.\n",
            "Epoch [5/10]. Step [241/241]. Loss: 0.006. Test acc: 0.006.\n",
            "Epoch [6/10]. Step [1/241]. Loss: 0.008. Test acc: 0.006.\n",
            "Epoch [6/10]. Step [151/241]. Loss: 0.006. Test acc: 0.009.\n",
            "Epoch [6/10]. Step [241/241]. Loss: 0.006. Test acc: 0.007.\n",
            "Epoch [7/10]. Step [1/241]. Loss: 0.005. Test acc: 0.007.\n",
            "Epoch [7/10]. Step [151/241]. Loss: 0.006. Test acc: 0.010.\n",
            "Epoch [7/10]. Step [241/241]. Loss: 0.006. Test acc: 0.011.\n",
            "Epoch [8/10]. Step [1/241]. Loss: 0.004. Test acc: 0.011.\n",
            "Epoch [8/10]. Step [151/241]. Loss: 0.006. Test acc: 0.013.\n",
            "Epoch [8/10]. Step [241/241]. Loss: 0.006. Test acc: 0.007.\n",
            "Epoch [9/10]. Step [1/241]. Loss: 0.008. Test acc: 0.006.\n",
            "Epoch [9/10]. Step [151/241]. Loss: 0.006. Test acc: 0.011.\n",
            "Epoch [9/10]. Step [241/241]. Loss: 0.006. Test acc: 0.006.\n",
            "Epoch [10/10]. Step [1/241]. Loss: 0.006. Test acc: 0.007.\n",
            "Epoch [10/10]. Step [151/241]. Loss: 0.006. Test acc: 0.009.\n",
            "Epoch [10/10]. Step [241/241]. Loss: 0.006. Test acc: 0.005.\n",
            "Best acc train: 0.004. Best acc test: 0.006\n",
            "Training is finished!\n",
            "CPU times: user 15.4 s, sys: 2.83 s, total: 18.2 s\n",
            "Wall time: 24.7 s\n"
          ]
        }
      ]
    },
    {
      "cell_type": "markdown",
      "source": [
        "SGD"
      ],
      "metadata": {
        "id": "teVNDGQzi1aU"
      }
    },
    {
      "cell_type": "code",
      "source": [
        "net = CHNet().to(DEVICE)\n",
        "optimizer = SGD(net.parameters(), lr=LR)"
      ],
      "metadata": {
        "id": "tD8CFhQei5nm"
      },
      "execution_count": 15,
      "outputs": []
    },
    {
      "cell_type": "code",
      "source": [
        "%%time\n",
        "train_loop(train_loader, test_loader, net, optimizer)"
      ],
      "metadata": {
        "colab": {
          "base_uri": "https://localhost:8080/"
        },
        "id": "jSK1f3S9i9Z7",
        "outputId": "a4ad6619-9156-42d7-fcc8-8c4994a5e966"
      },
      "execution_count": 16,
      "outputs": [
        {
          "output_type": "stream",
          "name": "stdout",
          "text": [
            "Epoch [1/10]. Step [1/241]. Loss: 0.076. Test acc: 0.088.\n",
            "Epoch [1/10]. Step [151/241]. Loss: 0.025. Test acc: 0.010.\n",
            "Epoch [1/10]. Step [241/241]. Loss: 0.011. Test acc: 0.010.\n",
            "Epoch [2/10]. Step [1/241]. Loss: 0.014. Test acc: 0.010.\n",
            "Epoch [2/10]. Step [151/241]. Loss: 0.011. Test acc: 0.010.\n",
            "Epoch [2/10]. Step [241/241]. Loss: 0.010. Test acc: 0.009.\n",
            "Epoch [3/10]. Step [1/241]. Loss: 0.008. Test acc: 0.009.\n",
            "Epoch [3/10]. Step [151/241]. Loss: 0.009. Test acc: 0.009.\n",
            "Epoch [3/10]. Step [241/241]. Loss: 0.009. Test acc: 0.008.\n",
            "Epoch [4/10]. Step [1/241]. Loss: 0.009. Test acc: 0.007.\n",
            "Epoch [4/10]. Step [151/241]. Loss: 0.008. Test acc: 0.007.\n",
            "Epoch [4/10]. Step [241/241]. Loss: 0.008. Test acc: 0.008.\n",
            "Epoch [5/10]. Step [1/241]. Loss: 0.012. Test acc: 0.008.\n",
            "Epoch [5/10]. Step [151/241]. Loss: 0.008. Test acc: 0.007.\n",
            "Epoch [5/10]. Step [241/241]. Loss: 0.008. Test acc: 0.007.\n",
            "Epoch [6/10]. Step [1/241]. Loss: 0.010. Test acc: 0.008.\n",
            "Epoch [6/10]. Step [151/241]. Loss: 0.007. Test acc: 0.007.\n",
            "Epoch [6/10]. Step [241/241]. Loss: 0.007. Test acc: 0.006.\n",
            "Epoch [7/10]. Step [1/241]. Loss: 0.007. Test acc: 0.006.\n",
            "Epoch [7/10]. Step [151/241]. Loss: 0.008. Test acc: 0.007.\n",
            "Epoch [7/10]. Step [241/241]. Loss: 0.007. Test acc: 0.007.\n",
            "Epoch [8/10]. Step [1/241]. Loss: 0.008. Test acc: 0.007.\n",
            "Epoch [8/10]. Step [151/241]. Loss: 0.007. Test acc: 0.007.\n",
            "Epoch [8/10]. Step [241/241]. Loss: 0.007. Test acc: 0.012.\n",
            "Epoch [9/10]. Step [1/241]. Loss: 0.007. Test acc: 0.012.\n",
            "Epoch [9/10]. Step [151/241]. Loss: 0.007. Test acc: 0.007.\n",
            "Epoch [9/10]. Step [241/241]. Loss: 0.007. Test acc: 0.006.\n",
            "Epoch [10/10]. Step [1/241]. Loss: 0.005. Test acc: 0.006.\n",
            "Epoch [10/10]. Step [151/241]. Loss: 0.007. Test acc: 0.006.\n",
            "Epoch [10/10]. Step [241/241]. Loss: 0.007. Test acc: 0.007.\n",
            "Best acc train: 0.005. Best acc test: 0.005\n",
            "Training is finished!\n",
            "CPU times: user 14.5 s, sys: 2.77 s, total: 17.3 s\n",
            "Wall time: 26.8 s\n"
          ]
        }
      ]
    },
    {
      "cell_type": "markdown",
      "source": [
        "SGD + Momentum"
      ],
      "metadata": {
        "id": "jqTbUsq1i_lN"
      }
    },
    {
      "cell_type": "code",
      "source": [
        "net = CHNet().to(DEVICE)\n",
        "optimizer = SGD(net.parameters(), lr=LR, momentum=0.8)"
      ],
      "metadata": {
        "id": "y6wsXtx6jAG_"
      },
      "execution_count": 17,
      "outputs": []
    },
    {
      "cell_type": "code",
      "source": [
        "%%time\n",
        "train_loop(train_loader, test_loader, net, optimizer)"
      ],
      "metadata": {
        "colab": {
          "base_uri": "https://localhost:8080/"
        },
        "id": "DB9TxCaYjDbg",
        "outputId": "92682339-84a0-4747-ff52-9536ab5517d0"
      },
      "execution_count": 18,
      "outputs": [
        {
          "output_type": "stream",
          "name": "stdout",
          "text": [
            "Epoch [1/10]. Step [1/241]. Loss: 0.061. Test acc: 0.088.\n",
            "Epoch [1/10]. Step [151/241]. Loss: 0.015. Test acc: 0.008.\n",
            "Epoch [1/10]. Step [241/241]. Loss: 0.009. Test acc: 0.007.\n",
            "Epoch [2/10]. Step [1/241]. Loss: 0.010. Test acc: 0.007.\n",
            "Epoch [2/10]. Step [151/241]. Loss: 0.008. Test acc: 0.007.\n",
            "Epoch [2/10]. Step [241/241]. Loss: 0.008. Test acc: 0.007.\n",
            "Epoch [3/10]. Step [1/241]. Loss: 0.006. Test acc: 0.007.\n",
            "Epoch [3/10]. Step [151/241]. Loss: 0.007. Test acc: 0.007.\n",
            "Epoch [3/10]. Step [241/241]. Loss: 0.007. Test acc: 0.008.\n",
            "Epoch [4/10]. Step [1/241]. Loss: 0.008. Test acc: 0.008.\n",
            "Epoch [4/10]. Step [151/241]. Loss: 0.007. Test acc: 0.007.\n",
            "Epoch [4/10]. Step [241/241]. Loss: 0.007. Test acc: 0.007.\n",
            "Epoch [5/10]. Step [1/241]. Loss: 0.006. Test acc: 0.007.\n",
            "Epoch [5/10]. Step [151/241]. Loss: 0.007. Test acc: 0.007.\n",
            "Epoch [5/10]. Step [241/241]. Loss: 0.007. Test acc: 0.007.\n",
            "Epoch [6/10]. Step [1/241]. Loss: 0.007. Test acc: 0.007.\n",
            "Epoch [6/10]. Step [151/241]. Loss: 0.007. Test acc: 0.006.\n",
            "Epoch [6/10]. Step [241/241]. Loss: 0.007. Test acc: 0.006.\n",
            "Epoch [7/10]. Step [1/241]. Loss: 0.008. Test acc: 0.006.\n",
            "Epoch [7/10]. Step [151/241]. Loss: 0.007. Test acc: 0.006.\n",
            "Epoch [7/10]. Step [241/241]. Loss: 0.007. Test acc: 0.006.\n",
            "Epoch [8/10]. Step [1/241]. Loss: 0.005. Test acc: 0.006.\n",
            "Epoch [8/10]. Step [151/241]. Loss: 0.006. Test acc: 0.006.\n",
            "Epoch [8/10]. Step [241/241]. Loss: 0.007. Test acc: 0.006.\n",
            "Epoch [9/10]. Step [1/241]. Loss: 0.007. Test acc: 0.006.\n",
            "Epoch [9/10]. Step [151/241]. Loss: 0.006. Test acc: 0.007.\n",
            "Epoch [9/10]. Step [241/241]. Loss: 0.006. Test acc: 0.006.\n",
            "Epoch [10/10]. Step [1/241]. Loss: 0.008. Test acc: 0.006.\n",
            "Epoch [10/10]. Step [151/241]. Loss: 0.006. Test acc: 0.008.\n",
            "Epoch [10/10]. Step [241/241]. Loss: 0.006. Test acc: 0.006.\n",
            "Best acc train: 0.005. Best acc test: 0.006\n",
            "Training is finished!\n",
            "CPU times: user 13.5 s, sys: 2.56 s, total: 16.1 s\n",
            "Wall time: 20.3 s\n"
          ]
        }
      ]
    }
  ]
}